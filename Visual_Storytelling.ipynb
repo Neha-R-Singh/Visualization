{
  "nbformat": 4,
  "nbformat_minor": 0,
  "metadata": {
    "colab": {
      "provenance": []
    },
    "kernelspec": {
      "name": "python3",
      "display_name": "Python 3"
    },
    "language_info": {
      "name": "python"
    }
  },
  "cells": [
    {
      "cell_type": "code",
      "execution_count": 36,
      "metadata": {
        "id": "IAJgVR9kZSpN"
      },
      "outputs": [],
      "source": [
        "# import dataset\n",
        "import pandas as pd\n",
        "\n",
        "# “Top 5 Gen AI use-cases” summing to 100 units\n",
        "# Stack Overflow 2024 AI tool benefits (multi-select, needs normalization)\n",
        "raw_percentages = {\n",
        "    'Increase productivity': 81.0,\n",
        "    'Speed up learning': 62.4,\n",
        "    'Greater efficiency': 58.5,\n",
        "    'Improve accuracy in coding': 30.3,\n",
        "    'Make workload more manageable': 25.0,\n",
        "    'Improve collaboration': 7.8\n",
        "}\n",
        "\n",
        "# Combine 'Increase productivity' and 'Greater efficiency' into one category\n",
        "merged_key = 'Productivity & Efficiency'\n",
        "combined_value = raw_percentages['Increase productivity'] + raw_percentages['Greater efficiency']+raw_percentages['Make workload more manageable']\n",
        "\n",
        "# Reconstruct raw_percentages with the merged category\n",
        "raw_percentages_combined = {\n",
        "    merged_key: combined_value,\n",
        "    'Speed up learning': raw_percentages['Speed up learning'],\n",
        "    'Improve accuracy in coding': raw_percentages['Improve accuracy in coding'],\n",
        "    'Improve collaboration': raw_percentages['Improve collaboration']\n",
        "}"
      ]
    },
    {
      "cell_type": "markdown",
      "source": [
        "This section of the code focuses on normalizing the combined percentage data and preparing it for creating a waffle chart. A waffle chart is a visualization that uses squares to represent parts of a whole, similar to a pie chart but often easier to read for comparing proportions."
      ],
      "metadata": {
        "id": "rzHkNUVBxE7s"
      }
    },
    {
      "cell_type": "code",
      "source": [
        "# Normalize again\n",
        "total_combined = sum(raw_percentages_combined.values())\n",
        "normalized_combined = {k: round(v / total_combined * 100) for k, v in raw_percentages_combined.items()}\n",
        "\n",
        "# Fix rounding error to make sum = 100\n",
        "diff = 100 - sum(normalized_combined.values())\n",
        "if diff != 0:\n",
        "    top_key = max(normalized_combined, key=normalized_combined.get)\n",
        "    normalized_combined[top_key] += diff\n",
        "\n",
        "# Prepare the waffle data\n",
        "df_counts_combined = pd.DataFrame({\n",
        "    'use_case': list(normalized_combined.keys()),\n",
        "    'count': list(normalized_combined.values())\n",
        "})\n",
        "\n",
        "df_waffle_combined = pd.DataFrame({\n",
        "    'use_case': np.repeat(df_counts_combined['use_case'], df_counts_combined['count'])\n",
        "})\n",
        "df_waffle_combined['unit_id'] = np.arange(100)\n",
        "df_waffle_combined['col'] = df_waffle_combined['unit_id'] % 10\n",
        "df_waffle_combined['row'] = 9 - (df_waffle_combined['unit_id'] // 10)"
      ],
      "metadata": {
        "id": "1oGgnA3Sw_Sg"
      },
      "execution_count": 37,
      "outputs": []
    },
    {
      "cell_type": "code",
      "source": [
        "#map each use case to a color\n",
        "# McKinsey-style colors\n",
        "# Updated color map\n",
        "color_map_combined = {\n",
        "    'Productivity & Efficiency': '#2C7BB6',\n",
        "    'Speed up learning': '#A89F91',\n",
        "    'Improve accuracy in coding': '#BEB6AD',\n",
        "    'Improve collaboration': '#E6E1DC'\n",
        "    #'#D9D9D9'\n",
        "}\n",
        "df_waffle_combined['color'] = df_waffle_combined['use_case'].map(color_map_combined)\n",
        "\n",
        "\n",
        "# Draw as individual squares (non-overlapping)\n",
        "fig, ax = plt.subplots(figsize=(6, 6))\n",
        "for _, row in df_waffle_combined.iterrows():\n",
        "    rect = plt.Rectangle((row['col'], row['row']), 0.9, 0.9, facecolor=row['color'])\n",
        "    ax.add_patch(rect)\n",
        "\n",
        "# Grid settings\n",
        "ax.set_xlim(-0.1, 10)\n",
        "ax.set_ylim(-0.1, 10)\n",
        "ax.set_aspect('equal')\n",
        "ax.axis('off')\n",
        "\n",
        "# Legend\n",
        "handles = [Line2D([0],[0], marker='s', color=color_map_combined[uc], linestyle='', markersize=10)\n",
        "           for uc in df_counts_combined['use_case']]\n",
        "ax.legend(handles, df_counts_combined['use_case'],\n",
        "          loc='lower center', bbox_to_anchor=(0.5, -0.14),\n",
        "          ncol=2, frameon=False, fontsize=10)\n",
        "\n",
        "plt.subplots_adjust(top=0.80, bottom=0.15)\n",
        "plt.show()\n",
        "\n"
      ],
      "metadata": {
        "colab": {
          "base_uri": "https://localhost:8080/",
          "height": 474
        },
        "id": "zlHcqefkZp6p",
        "outputId": "5f72582b-796d-42e3-b0d2-6a637cb9a86b"
      },
      "execution_count": 38,
      "outputs": [
        {
          "output_type": "display_data",
          "data": {
            "text/plain": [
              "<Figure size 600x600 with 1 Axes>"
            ],
            "image/png": "[encoded data removed]"
          },
          "metadata": {}
        }
      ]
    }
  ]
}