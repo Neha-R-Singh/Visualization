{
  "cells": [
    {
      "cell_type": "markdown",
      "source": [
        "**Step 1\n",
        "Upload the dataset from Kaggle & basic analysis**"
      ],
      "metadata": {
        "id": "X3wv9N9RZuMG"
      }
    },
    {
      "cell_type": "code",
      "source": [
        "#from google.colab import files\n",
        "#uploaded = files.upload()"
      ],
      "metadata": {
        "id": "KpBq9GweZefS"
      },
      "execution_count": null,
      "outputs": []
    },
    {
      "cell_type": "code",
      "execution_count": 149,
      "metadata": {
        "id": "9VQ_KYBgmlQD"
      },
      "outputs": [],
      "source": [
        "#Installing plotly\n",
        "#!pip install plotly"
      ]
    },
    {
      "cell_type": "code",
      "execution_count": 150,
      "metadata": {
        "colab": {
          "base_uri": "https://localhost:8080/"
        },
        "id": "1phS3orLmoba",
        "outputId": "005bbc77-3a54-42bd-e33b-f510064b281f"
      },
      "outputs": [
        {
          "output_type": "stream",
          "name": "stderr",
          "text": [
            "<ipython-input-150-94bd670ac07b>:4: DtypeWarning:\n",
            "\n",
            "Columns (31,83,86,87,98,99,109,116,123,124,127,129,130,164) have mixed types. Specify dtype option on import or set low_memory=False.\n",
            "\n"
          ]
        }
      ],
      "source": [
        "#Basic Analysis\n",
        "import pandas as pd\n",
        "\n",
        "# Load the dataset\n",
        "df = pd.read_csv('multipleChoiceResponses_2017.csv',encoding='ISO-8859-1')\n",
        "\n",
        "# Display the first few rows\n",
        "#df.head()"
      ]
    },
    {
      "cell_type": "markdown",
      "source": [
        "**Step 2: I used rule based segmentation. However, other segmentation techniques also can be used**"
      ],
      "metadata": {
        "id": "4yl2n7WEaMJL"
      }
    },
    {
      "cell_type": "code",
      "source": [
        "#manual segmentation\n",
        "job_clusters = {\n",
        "    'DBA/Database Engineer': 'Analytics',\n",
        "'Operations Research Practitioner': 'Research',\n",
        "'Computer Scientist': 'Data Scientist',\n",
        "'Data Scientist': 'Data Scientist',\n",
        "'Software Developer/Software Engineer': 'Software Engineer',\n",
        "'Business Analyst': 'Analytics',\n",
        "'Engineer': 'Analytics',\n",
        "'Scientist/Researcher': 'Research',\n",
        "'Researcher': 'Research',\n",
        "'Other': 'Other',\n",
        "'Data Analyst': 'Analytics',\n",
        "'Machine Learning Engineer': 'Analytics',\n",
        "'Statistician': 'Data Scientist',\n",
        "'Predictive Modeler': 'Data Scientist',\n",
        "'Programmer': 'Software Engineer',\n",
        "'Data Miner': 'Analytics'\n",
        "}\n",
        "df['JobCluster'] = df['CurrentJobTitleSelect'].map(job_clusters).fillna('Other')"
      ],
      "metadata": {
        "id": "kAecG_3asFJG"
      },
      "execution_count": 151,
      "outputs": []
    },
    {
      "cell_type": "markdown",
      "source": [
        "**Group Data for Sankey**"
      ],
      "metadata": {
        "id": "Laq8EoFnavZ3"
      }
    },
    {
      "cell_type": "code",
      "source": [
        "#Prepare Data for Sankey Chart\n",
        "df_grouped = df.groupby(['FormalEducation', 'JobCluster']).size().reset_index(name='Count')"
      ],
      "metadata": {
        "id": "Pw48JRaCtiIg"
      },
      "execution_count": 152,
      "outputs": []
    },
    {
      "cell_type": "code",
      "source": [
        "#Create Label Mapping\n",
        "labels = list(pd.unique(df_grouped[['FormalEducation', 'JobCluster']].values.ravel('K')))\n",
        "label_to_index = {label: idx for idx, label in enumerate(labels)}\n",
        "\n",
        "df_grouped['Source'] = df_grouped['FormalEducation'].map(label_to_index)\n",
        "df_grouped['Target'] = df_grouped['JobCluster'].map(label_to_index)"
      ],
      "metadata": {
        "id": "jgoJdoTJuCXx"
      },
      "execution_count": 153,
      "outputs": []
    },
    {
      "cell_type": "code",
      "source": [
        "#cleaning up the labels before coloring\n",
        "df_grouped['FormalEducation'] = df_grouped['FormalEducation'].str.strip()\n",
        "df_grouped['JobCluster'] = df_grouped['JobCluster'].str.strip()\n",
        "df_grouped['FormalEducation'] = df_grouped['FormalEducation'].str.replace(\"’\", \"'\", regex=False)"
      ],
      "metadata": {
        "id": "_3b_JxgzPdrQ"
      },
      "execution_count": 154,
      "outputs": []
    },
    {
      "cell_type": "code",
      "source": [
        "# defining colors\n",
        "base_colors = {\n",
        "    \"Bachelor's degree\": (70, 130, 180),\n",
        "    \"Master's degree\": (100, 149, 237),\n",
        "    \"Doctoral degree\": (0, 128, 128)\n",
        "}"
      ],
      "metadata": {
        "id": "ofy_9JECPpBk"
      },
      "execution_count": 155,
      "outputs": []
    },
    {
      "cell_type": "code",
      "source": [
        "# Drop rows with \"Other\" as Education or JobCluster\n",
        "unwanted_education = ['Other', 'Professional degree']\n",
        "df_grouped = df_grouped[~df_grouped['FormalEducation'].isin(unwanted_education)]\n",
        "df_grouped = df_grouped[df_grouped['JobCluster'] != 'Other']\n",
        "\n",
        "df_grouped = df_grouped[\n",
        "    (df_grouped['FormalEducation'] != \"Some college/university study without earning a bachelor's degree\")\n",
        "                      ]\n",
        "df_grouped = df_grouped[\n",
        "    (df_grouped['FormalEducation'] != \"I did not complete any formal education past high school\")\n",
        "                      ]\n",
        "df_grouped = df_grouped[\n",
        "    (df_grouped['FormalEducation'] != \"I prefer not to answer\")\n",
        "                      ]"
      ],
      "metadata": {
        "id": "EE7f-TozzhBk"
      },
      "execution_count": 156,
      "outputs": []
    },
    {
      "cell_type": "code",
      "source": [
        "#Assign Colors Based on Source & Count\n",
        "import matplotlib.pyplot as plt\n",
        "\n",
        "def get_shade(base_rgb, intensity):\n",
        "    # Adjust color brightness based on normalized intensity (0–1)\n",
        "    r, g, b = base_rgb\n",
        "    return f\"rgba({int(r*intensity)}, {int(g*intensity)}, {int(b*intensity)}, 0.5)\"\n",
        "\n",
        "# Normalize counts between 0–1\n",
        "norm = plt.Normalize(df_grouped['Count'].min(), df_grouped['Count'].max())\n",
        "\n",
        "# Generate a color per link\n",
        "link_colors = []\n",
        "\n",
        "for _, row in df_grouped.iterrows():\n",
        "    education = row['FormalEducation']\n",
        "    count = row['Count']\n",
        "    base_rgb = base_colors.get(education, (150, 150, 150))\n",
        "    shade = get_shade(base_rgb, norm(count))\n",
        "    link_colors.append(shade)"
      ],
      "metadata": {
        "id": "ff_bBNKExqAi"
      },
      "execution_count": 157,
      "outputs": []
    },
    {
      "cell_type": "code",
      "source": [
        "# Default to gray if not found\n",
        "def rgb_to_rgba(rgb, alpha=0.8):\n",
        "    return f'rgba({rgb[0]},{rgb[1]},{rgb[2]},{alpha})'\n",
        "\n",
        "# Initialize node color list\n",
        "node_colors = []\n",
        "\n",
        "for label in labels:\n",
        "    if label in base_colors:  # It's an Education node\n",
        "        color = rgb_to_rgba(base_colors[label])\n",
        "    else:  # It's a JobCluster\n",
        "        # Find matching education for this cluster, if available\n",
        "        matches = df_grouped[df_grouped['JobCluster'] == label]\n",
        "        if not matches.empty:\n",
        "            edu = matches['FormalEducation'].iloc[0]\n",
        "            base_rgb = base_colors.get(edu, (150, 150, 150))\n",
        "        else:\n",
        "            base_rgb = (150, 150, 150)  # fallback gray\n",
        "        color = rgb_to_rgba(base_rgb)\n",
        "\n",
        "    node_colors.append(color)"
      ],
      "metadata": {
        "id": "vfDryJ6R3GWD"
      },
      "execution_count": 158,
      "outputs": []
    },
    {
      "cell_type": "code",
      "source": [
        "#Plot Sankey Diagram\n",
        "import plotly.graph_objects as go\n",
        "\n",
        "df_grouped['LinkLabel'] = (\n",
        "    df_grouped['FormalEducation'].astype(str) +\n",
        "    \" → \" +\n",
        "    df_grouped['JobCluster'].astype(str) +\n",
        "    \"<br>Count: \" +\n",
        "    df_grouped['Count'].astype(str)\n",
        ")\n",
        "\n",
        "fig = go.Figure(data=[go.Sankey(\n",
        "    #new added\n",
        "    node=dict(\n",
        "    pad=15,\n",
        "    thickness=20,\n",
        "    label=labels,\n",
        "    color=node_colors,  # ← Use our list of rgba colors\n",
        "    #line=dict(color=\"black\", width=0.5)\n",
        "),\n",
        "    link=dict(\n",
        "        source=df_grouped['Source'],\n",
        "        target=df_grouped['Target'],\n",
        "        value=df_grouped['Count'],\n",
        "        customdata=df_grouped['LinkLabel'],\n",
        "        hovertemplate='%{customdata}<extra></extra>',\n",
        "        color=link_colors  # 👈 this applies the gradient shading\n",
        "    )\n",
        ")])\n",
        "fig.update_layout(\n",
        "    width=600,  # default is ~1000–1200\n",
        "    height=600,\n",
        "    title_text=\"Education to Job Segment Sankey (Shaded by Category + Strength)\",\n",
        "    font_size=10\n",
        ")\n",
        "#fig.update_layout(title_text=\"Education to Job Segment Sankey (Shaded by Category + Strength)\")\n",
        "fig.show()"
      ],
      "metadata": {
        "colab": {
          "base_uri": "https://localhost:8080/",
          "height": 617
        },
        "id": "dm8CCBPiuMLN",
        "outputId": "4119701a-2446-48ed-8cc4-1097a5c03c2a"
      },
      "execution_count": 159,
      "outputs": [
        {
          "output_type": "display_data",
          "data": {
            "text/html": [
              "<html>\n",
              "<head><meta charset=\"utf-8\" /></head>\n",
              "<body>\n",
              "    <div>            <script src=\"https://cdnjs.cloudflare.com/ajax/libs/mathjax/2.7.5/MathJax.js?config=TeX-AMS-MML_SVG\"></script><script type=\"text/javascript\">if (window.MathJax && window.MathJax.Hub && window.MathJax.Hub.Config) {window.MathJax.Hub.Config({SVG: {font: \"STIX-Web\"}});}</script>                <script type=\"text/javascript\">window.PlotlyConfig = {MathJaxConfig: 'local'};</script>\n",
              "        <script charset=\"utf-8\" src=\"https://cdn.plot.ly/plotly-2.35.2.min.js\"></script>                <div id=\"d88f70f7-f634-4509-b643-3ac3327feb2f\" class=\"plotly-graph-div\" style=\"height:600px; width:600px;\"></div>            <script type=\"text/javascript\">                                    window.PLOTLYENV=window.PLOTLYENV || {};                                    if (document.getElementById(\"d88f70f7-f634-4509-b643-3ac3327feb2f\")) {                    Plotly.newPlot(                        \"d88f70f7-f634-4509-b643-3ac3327feb2f\",                        [{\"link\":{\"color\":[\"rgba(51, 94, 131, 0.5)\",\"rgba(25, 47, 65, 0.5)\",\"rgba(3, 5, 8, 0.5)\",\"rgba(38, 71, 99, 0.5)\",\"rgba(0, 13, 13, 0.5)\",\"rgba(0, 58, 58, 0.5)\",\"rgba(0, 55, 55, 0.5)\",\"rgba(0, 0, 0, 0.5)\",\"rgba(100, 149, 237, 0.5)\",\"rgba(93, 139, 221, 0.5)\",\"rgba(30, 44, 71, 0.5)\",\"rgba(47, 70, 112, 0.5)\"],\"customdata\":[\"Bachelor's degree → Analytics\\u003cbr\\u003eCount: 1233\",\"Bachelor's degree → Data Scientist\\u003cbr\\u003eCount: 676\",\"Bachelor's degree → Research\\u003cbr\\u003eCount: 192\",\"Bachelor's degree → Software Engineer\\u003cbr\\u003eCount: 965\",\"Doctoral degree → Analytics\\u003cbr\\u003eCount: 278\",\"Doctoral degree → Data Scientist\\u003cbr\\u003eCount: 820\",\"Doctoral degree → Research\\u003cbr\\u003eCount: 788\",\"Doctoral degree → Software Engineer\\u003cbr\\u003eCount: 123\",\"Master's degree → Analytics\\u003cbr\\u003eCount: 1644\",\"Master's degree → Data Scientist\\u003cbr\\u003eCount: 1543\",\"Master's degree → Research\\u003cbr\\u003eCount: 580\",\"Master's degree → Software Engineer\\u003cbr\\u003eCount: 842\"],\"hovertemplate\":\"%{customdata}\\u003cextra\\u003e\\u003c\\u002fextra\\u003e\",\"source\":[0,0,0,0,1,1,1,1,4,4,4,4],\"target\":[7,8,10,11,7,8,10,11,7,8,10,11],\"value\":[1233,676,192,965,278,820,788,123,1644,1543,580,842]},\"node\":{\"color\":[\"rgba(70,130,180,0.8)\",\"rgba(0,128,128,0.8)\",\"rgba(150,150,150,0.8)\",\"rgba(150,150,150,0.8)\",\"rgba(100,149,237,0.8)\",\"rgba(150,150,150,0.8)\",\"rgba(150,150,150,0.8)\",\"rgba(70,130,180,0.8)\",\"rgba(70,130,180,0.8)\",\"rgba(150,150,150,0.8)\",\"rgba(70,130,180,0.8)\",\"rgba(70,130,180,0.8)\"],\"label\":[\"Bachelor's degree\",\"Doctoral degree\",\"I did not complete any formal education past high school\",\"I prefer not to answer\",\"Master's degree\",\"Professional degree\",\"Some college\\u002funiversity study without earning a bachelor's degree\",\"Analytics\",\"Data Scientist\",\"Other\",\"Research\",\"Software Engineer\"],\"pad\":15,\"thickness\":20},\"type\":\"sankey\"}],                        {\"template\":{\"data\":{\"histogram2dcontour\":[{\"type\":\"histogram2dcontour\",\"colorbar\":{\"outlinewidth\":0,\"ticks\":\"\"},\"colorscale\":[[0.0,\"#0d0887\"],[0.1111111111111111,\"#46039f\"],[0.2222222222222222,\"#7201a8\"],[0.3333333333333333,\"#9c179e\"],[0.4444444444444444,\"#bd3786\"],[0.5555555555555556,\"#d8576b\"],[0.6666666666666666,\"#ed7953\"],[0.7777777777777778,\"#fb9f3a\"],[0.8888888888888888,\"#fdca26\"],[1.0,\"#f0f921\"]]}],\"choropleth\":[{\"type\":\"choropleth\",\"colorbar\":{\"outlinewidth\":0,\"ticks\":\"\"}}],\"histogram2d\":[{\"type\":\"histogram2d\",\"colorbar\":{\"outlinewidth\":0,\"ticks\":\"\"},\"colorscale\":[[0.0,\"#0d0887\"],[0.1111111111111111,\"#46039f\"],[0.2222222222222222,\"#7201a8\"],[0.3333333333333333,\"#9c179e\"],[0.4444444444444444,\"#bd3786\"],[0.5555555555555556,\"#d8576b\"],[0.6666666666666666,\"#ed7953\"],[0.7777777777777778,\"#fb9f3a\"],[0.8888888888888888,\"#fdca26\"],[1.0,\"#f0f921\"]]}],\"heatmap\":[{\"type\":\"heatmap\",\"colorbar\":{\"outlinewidth\":0,\"ticks\":\"\"},\"colorscale\":[[0.0,\"#0d0887\"],[0.1111111111111111,\"#46039f\"],[0.2222222222222222,\"#7201a8\"],[0.3333333333333333,\"#9c179e\"],[0.4444444444444444,\"#bd3786\"],[0.5555555555555556,\"#d8576b\"],[0.6666666666666666,\"#ed7953\"],[0.7777777777777778,\"#fb9f3a\"],[0.8888888888888888,\"#fdca26\"],[1.0,\"#f0f921\"]]}],\"heatmapgl\":[{\"type\":\"heatmapgl\",\"colorbar\":{\"outlinewidth\":0,\"ticks\":\"\"},\"colorscale\":[[0.0,\"#0d0887\"],[0.1111111111111111,\"#46039f\"],[0.2222222222222222,\"#7201a8\"],[0.3333333333333333,\"#9c179e\"],[0.4444444444444444,\"#bd3786\"],[0.5555555555555556,\"#d8576b\"],[0.6666666666666666,\"#ed7953\"],[0.7777777777777778,\"#fb9f3a\"],[0.8888888888888888,\"#fdca26\"],[1.0,\"#f0f921\"]]}],\"contourcarpet\":[{\"type\":\"contourcarpet\",\"colorbar\":{\"outlinewidth\":0,\"ticks\":\"\"}}],\"contour\":[{\"type\":\"contour\",\"colorbar\":{\"outlinewidth\":0,\"ticks\":\"\"},\"colorscale\":[[0.0,\"#0d0887\"],[0.1111111111111111,\"#46039f\"],[0.2222222222222222,\"#7201a8\"],[0.3333333333333333,\"#9c179e\"],[0.4444444444444444,\"#bd3786\"],[0.5555555555555556,\"#d8576b\"],[0.6666666666666666,\"#ed7953\"],[0.7777777777777778,\"#fb9f3a\"],[0.8888888888888888,\"#fdca26\"],[1.0,\"#f0f921\"]]}],\"surface\":[{\"type\":\"surface\",\"colorbar\":{\"outlinewidth\":0,\"ticks\":\"\"},\"colorscale\":[[0.0,\"#0d0887\"],[0.1111111111111111,\"#46039f\"],[0.2222222222222222,\"#7201a8\"],[0.3333333333333333,\"#9c179e\"],[0.4444444444444444,\"#bd3786\"],[0.5555555555555556,\"#d8576b\"],[0.6666666666666666,\"#ed7953\"],[0.7777777777777778,\"#fb9f3a\"],[0.8888888888888888,\"#fdca26\"],[1.0,\"#f0f921\"]]}],\"mesh3d\":[{\"type\":\"mesh3d\",\"colorbar\":{\"outlinewidth\":0,\"ticks\":\"\"}}],\"scatter\":[{\"fillpattern\":{\"fillmode\":\"overlay\",\"size\":10,\"solidity\":0.2},\"type\":\"scatter\"}],\"parcoords\":[{\"type\":\"parcoords\",\"line\":{\"colorbar\":{\"outlinewidth\":0,\"ticks\":\"\"}}}],\"scatterpolargl\":[{\"type\":\"scatterpolargl\",\"marker\":{\"colorbar\":{\"outlinewidth\":0,\"ticks\":\"\"}}}],\"bar\":[{\"error_x\":{\"color\":\"#2a3f5f\"},\"error_y\":{\"color\":\"#2a3f5f\"},\"marker\":{\"line\":{\"color\":\"#E5ECF6\",\"width\":0.5},\"pattern\":{\"fillmode\":\"overlay\",\"size\":10,\"solidity\":0.2}},\"type\":\"bar\"}],\"scattergeo\":[{\"type\":\"scattergeo\",\"marker\":{\"colorbar\":{\"outlinewidth\":0,\"ticks\":\"\"}}}],\"scatterpolar\":[{\"type\":\"scatterpolar\",\"marker\":{\"colorbar\":{\"outlinewidth\":0,\"ticks\":\"\"}}}],\"histogram\":[{\"marker\":{\"pattern\":{\"fillmode\":\"overlay\",\"size\":10,\"solidity\":0.2}},\"type\":\"histogram\"}],\"scattergl\":[{\"type\":\"scattergl\",\"marker\":{\"colorbar\":{\"outlinewidth\":0,\"ticks\":\"\"}}}],\"scatter3d\":[{\"type\":\"scatter3d\",\"line\":{\"colorbar\":{\"outlinewidth\":0,\"ticks\":\"\"}},\"marker\":{\"colorbar\":{\"outlinewidth\":0,\"ticks\":\"\"}}}],\"scattermapbox\":[{\"type\":\"scattermapbox\",\"marker\":{\"colorbar\":{\"outlinewidth\":0,\"ticks\":\"\"}}}],\"scatterternary\":[{\"type\":\"scatterternary\",\"marker\":{\"colorbar\":{\"outlinewidth\":0,\"ticks\":\"\"}}}],\"scattercarpet\":[{\"type\":\"scattercarpet\",\"marker\":{\"colorbar\":{\"outlinewidth\":0,\"ticks\":\"\"}}}],\"carpet\":[{\"aaxis\":{\"endlinecolor\":\"#2a3f5f\",\"gridcolor\":\"white\",\"linecolor\":\"white\",\"minorgridcolor\":\"white\",\"startlinecolor\":\"#2a3f5f\"},\"baxis\":{\"endlinecolor\":\"#2a3f5f\",\"gridcolor\":\"white\",\"linecolor\":\"white\",\"minorgridcolor\":\"white\",\"startlinecolor\":\"#2a3f5f\"},\"type\":\"carpet\"}],\"table\":[{\"cells\":{\"fill\":{\"color\":\"#EBF0F8\"},\"line\":{\"color\":\"white\"}},\"header\":{\"fill\":{\"color\":\"#C8D4E3\"},\"line\":{\"color\":\"white\"}},\"type\":\"table\"}],\"barpolar\":[{\"marker\":{\"line\":{\"color\":\"#E5ECF6\",\"width\":0.5},\"pattern\":{\"fillmode\":\"overlay\",\"size\":10,\"solidity\":0.2}},\"type\":\"barpolar\"}],\"pie\":[{\"automargin\":true,\"type\":\"pie\"}]},\"layout\":{\"autotypenumbers\":\"strict\",\"colorway\":[\"#636efa\",\"#EF553B\",\"#00cc96\",\"#ab63fa\",\"#FFA15A\",\"#19d3f3\",\"#FF6692\",\"#B6E880\",\"#FF97FF\",\"#FECB52\"],\"font\":{\"color\":\"#2a3f5f\"},\"hovermode\":\"closest\",\"hoverlabel\":{\"align\":\"left\"},\"paper_bgcolor\":\"white\",\"plot_bgcolor\":\"#E5ECF6\",\"polar\":{\"bgcolor\":\"#E5ECF6\",\"angularaxis\":{\"gridcolor\":\"white\",\"linecolor\":\"white\",\"ticks\":\"\"},\"radialaxis\":{\"gridcolor\":\"white\",\"linecolor\":\"white\",\"ticks\":\"\"}},\"ternary\":{\"bgcolor\":\"#E5ECF6\",\"aaxis\":{\"gridcolor\":\"white\",\"linecolor\":\"white\",\"ticks\":\"\"},\"baxis\":{\"gridcolor\":\"white\",\"linecolor\":\"white\",\"ticks\":\"\"},\"caxis\":{\"gridcolor\":\"white\",\"linecolor\":\"white\",\"ticks\":\"\"}},\"coloraxis\":{\"colorbar\":{\"outlinewidth\":0,\"ticks\":\"\"}},\"colorscale\":{\"sequential\":[[0.0,\"#0d0887\"],[0.1111111111111111,\"#46039f\"],[0.2222222222222222,\"#7201a8\"],[0.3333333333333333,\"#9c179e\"],[0.4444444444444444,\"#bd3786\"],[0.5555555555555556,\"#d8576b\"],[0.6666666666666666,\"#ed7953\"],[0.7777777777777778,\"#fb9f3a\"],[0.8888888888888888,\"#fdca26\"],[1.0,\"#f0f921\"]],\"sequentialminus\":[[0.0,\"#0d0887\"],[0.1111111111111111,\"#46039f\"],[0.2222222222222222,\"#7201a8\"],[0.3333333333333333,\"#9c179e\"],[0.4444444444444444,\"#bd3786\"],[0.5555555555555556,\"#d8576b\"],[0.6666666666666666,\"#ed7953\"],[0.7777777777777778,\"#fb9f3a\"],[0.8888888888888888,\"#fdca26\"],[1.0,\"#f0f921\"]],\"diverging\":[[0,\"#8e0152\"],[0.1,\"#c51b7d\"],[0.2,\"#de77ae\"],[0.3,\"#f1b6da\"],[0.4,\"#fde0ef\"],[0.5,\"#f7f7f7\"],[0.6,\"#e6f5d0\"],[0.7,\"#b8e186\"],[0.8,\"#7fbc41\"],[0.9,\"#4d9221\"],[1,\"#276419\"]]},\"xaxis\":{\"gridcolor\":\"white\",\"linecolor\":\"white\",\"ticks\":\"\",\"title\":{\"standoff\":15},\"zerolinecolor\":\"white\",\"automargin\":true,\"zerolinewidth\":2},\"yaxis\":{\"gridcolor\":\"white\",\"linecolor\":\"white\",\"ticks\":\"\",\"title\":{\"standoff\":15},\"zerolinecolor\":\"white\",\"automargin\":true,\"zerolinewidth\":2},\"scene\":{\"xaxis\":{\"backgroundcolor\":\"#E5ECF6\",\"gridcolor\":\"white\",\"linecolor\":\"white\",\"showbackground\":true,\"ticks\":\"\",\"zerolinecolor\":\"white\",\"gridwidth\":2},\"yaxis\":{\"backgroundcolor\":\"#E5ECF6\",\"gridcolor\":\"white\",\"linecolor\":\"white\",\"showbackground\":true,\"ticks\":\"\",\"zerolinecolor\":\"white\",\"gridwidth\":2},\"zaxis\":{\"backgroundcolor\":\"#E5ECF6\",\"gridcolor\":\"white\",\"linecolor\":\"white\",\"showbackground\":true,\"ticks\":\"\",\"zerolinecolor\":\"white\",\"gridwidth\":2}},\"shapedefaults\":{\"line\":{\"color\":\"#2a3f5f\"}},\"annotationdefaults\":{\"arrowcolor\":\"#2a3f5f\",\"arrowhead\":0,\"arrowwidth\":1},\"geo\":{\"bgcolor\":\"white\",\"landcolor\":\"#E5ECF6\",\"subunitcolor\":\"white\",\"showland\":true,\"showlakes\":true,\"lakecolor\":\"white\"},\"title\":{\"x\":0.05},\"mapbox\":{\"style\":\"light\"}}},\"title\":{\"text\":\"Education to Job Segment Sankey (Shaded by Category + Strength)\"},\"font\":{\"size\":10},\"width\":600,\"height\":600},                        {\"responsive\": true}                    ).then(function(){\n",
              "                            \n",
              "var gd = document.getElementById('d88f70f7-f634-4509-b643-3ac3327feb2f');\n",
              "var x = new MutationObserver(function (mutations, observer) {{\n",
              "        var display = window.getComputedStyle(gd).display;\n",
              "        if (!display || display === 'none') {{\n",
              "            console.log([gd, 'removed!']);\n",
              "            Plotly.purge(gd);\n",
              "            observer.disconnect();\n",
              "        }}\n",
              "}});\n",
              "\n",
              "// Listen for the removal of the full notebook cells\n",
              "var notebookContainer = gd.closest('#notebook-container');\n",
              "if (notebookContainer) {{\n",
              "    x.observe(notebookContainer, {childList: true});\n",
              "}}\n",
              "\n",
              "// Listen for the clearing of the current output cell\n",
              "var outputEl = gd.closest('.output');\n",
              "if (outputEl) {{\n",
              "    x.observe(outputEl, {childList: true});\n",
              "}}\n",
              "\n",
              "                        })                };                            </script>        </div>\n",
              "</body>\n",
              "</html>"
            ]
          },
          "metadata": {}
        }
      ]
    },
    {
      "cell_type": "code",
      "source": [],
      "metadata": {
        "id": "KWfCkh8nKnGF"
      },
      "execution_count": 159,
      "outputs": []
    }
  ],
  "metadata": {
    "colab": {
      "provenance": []
    },
    "kernelspec": {
      "display_name": "Python 3",
      "name": "python3"
    },
    "language_info": {
      "name": "python"
    }
  },
  "nbformat": 4,
  "nbformat_minor": 0
}